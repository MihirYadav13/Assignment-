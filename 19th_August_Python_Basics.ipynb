{
  "nbformat": 4,
  "nbformat_minor": 0,
  "metadata": {
    "colab": {
      "provenance": []
    },
    "kernelspec": {
      "name": "python3",
      "display_name": "Python 3"
    },
    "language_info": {
      "name": "python"
    }
  },
  "cells": [
    {
      "cell_type": "code",
      "execution_count": 22,
      "metadata": {
        "colab": {
          "base_uri": "https://localhost:8080/"
        },
        "id": "jMFq1okKE8_O",
        "outputId": "43c00406-717d-42ec-c75f-a841dbc26d03"
      },
      "outputs": [
        {
          "output_type": "stream",
          "name": "stdout",
          "text": [
            "Before swapping:\n",
            "x = 10\n",
            "y = 5\n",
            "\n",
            "After swapping:\n",
            "x = 5\n",
            "y = 10\n"
          ]
        }
      ],
      "source": [
        "#Declare two variables, `x` and `y`, and assign them integer values. Swap the\n",
        "# values of these variables without using any temporary variable.\n",
        "# Initialize variables\n",
        "x = 10\n",
        "y = 5\n",
        "\n",
        "# Print initial values of x and y\n",
        "print(\"Before swapping:\")\n",
        "print(\"x =\", x)\n",
        "print(\"y =\", y)\n",
        "\n",
        "# Swap values without a temporary variable\n",
        "x = x + y  # Step 1: x now becomes 15 (10 + 5)\n",
        "y = x - y  # Step 2: y now becomes 10 (15 - 5)\n",
        "x = x - y  # Step 3: x now becomes 5 (15 - 10)\n",
        "\n",
        "# Print final values of x and y after swapping\n",
        "print(\"\\nAfter swapping:\")\n",
        "print(\"x =\", x)\n",
        "print(\"y =\", y)\n"
      ]
    },
    {
      "cell_type": "code",
      "source": [
        "# Create a program that calculates the area of a rectangle. Take the length and\n",
        "# width as inputs from the user and store them in variables. Calculate and\n",
        "# display the area.\n",
        "# Prompt the user to enter the length of the rectangle\n",
        "l = int(input(\"Length of rectangle: \"))\n",
        "\n",
        "# Prompt the user to enter the width of the rectangle\n",
        "w = int(input(\"Width of rectangle: \"))\n",
        "\n",
        "# Calculate the area of the rectangle by multiplying length and width\n",
        "a = l * w\n",
        "\n",
        "# Display the calculated area to the user\n",
        "print(\"Area of rectangle =\", a)\n"
      ],
      "metadata": {
        "colab": {
          "base_uri": "https://localhost:8080/"
        },
        "id": "ikyFm4A4F9Bx",
        "outputId": "87329a65-d612-4a0c-c11d-c694c344dadc"
      },
      "execution_count": 23,
      "outputs": [
        {
          "output_type": "stream",
          "name": "stdout",
          "text": [
            "Length of rectangle: 10\n",
            "Width of rectangle: 10\n",
            "Area of rectangle = 100\n"
          ]
        }
      ]
    },
    {
      "cell_type": "code",
      "source": [
        "# Write a Python program that converts temperatures from Celsius to\n",
        "# Fahrenheit. Take the temperature in Celsius as input, store it in a variable,\n",
        "# convert it to Fahrenheit, and display the result.\n",
        "# Function to convert Celsius to Fahrenheit\n",
        "def celsius_to_fahrenheit(celsius):\n",
        "    fahrenheit = (celsius * 9/5) + 32\n",
        "    return fahrenheit\n",
        "\n",
        "# Taking temperature in Celsius as input\n",
        "celsius = float(input(\"Enter temperature in Celsius: \"))\n",
        "\n",
        "# Converting Celsius to Fahrenheit\n",
        "fahrenheit = celsius_to_fahrenheit(celsius)\n",
        "\n",
        "# Displaying the result\n",
        "print(\"Temperature in Fahrenheit:\", fahrenheit)\n"
      ],
      "metadata": {
        "colab": {
          "base_uri": "https://localhost:8080/"
        },
        "id": "yNR9RdHjGtYK",
        "outputId": "72ae036b-502c-4b92-c70c-643d38db694a"
      },
      "execution_count": null,
      "outputs": [
        {
          "output_type": "stream",
          "name": "stdout",
          "text": [
            "Enter temperature in Celsius: 9\n",
            "Temperature in Fahrenheit: 48.2\n"
          ]
        }
      ]
    },
    {
      "cell_type": "code",
      "source": [
        "# TOPIC: String Based Questions"
      ],
      "metadata": {
        "id": "zM4_i8R671b2"
      },
      "execution_count": null,
      "outputs": []
    },
    {
      "cell_type": "code",
      "source": [
        "# 1. Write a Python program that takes a string as input and prints the length of\n",
        "# the string.\n",
        "# Prompt the user to enter a string\n",
        "user_input = input(\"Enter a string: \")\n",
        "\n",
        "# Calculate the length of the entered string\n",
        "length = len(user_input)\n",
        "\n",
        "# Print the length of the string\n",
        "print(\"Length of the string:\", length)\n",
        "\n",
        "\n"
      ],
      "metadata": {
        "colab": {
          "base_uri": "https://localhost:8080/"
        },
        "id": "wFoR7EsvCJ3z",
        "outputId": "353cab22-d82e-4aae-8ff0-e602e5fb12e6"
      },
      "execution_count": null,
      "outputs": [
        {
          "output_type": "stream",
          "name": "stdout",
          "text": [
            "Enter a string: user\n",
            "Length of the string: 4\n"
          ]
        }
      ]
    },
    {
      "cell_type": "code",
      "source": [
        "# Create a program that takes a sentence from the user and counts the number\n",
        "# of vowels (a, e, i, o, u) in the string.\n",
        "\n"
      ],
      "metadata": {
        "id": "K0PmSLcFCT5y"
      },
      "execution_count": null,
      "outputs": []
    },
    {
      "cell_type": "code",
      "source": [
        "# the user to input a sentence\n",
        "sentence = input(\"input sentence: \")\n",
        "\n",
        "# Define a string containing all the vowels\n",
        "vowels = \"aeiou\"\n",
        "\n",
        "# Initialize a counter for the number of vowels\n",
        "count = 0\n",
        "\n",
        "# Iterate over each character in the input sentence\n",
        "for char in sentence:\n",
        "    # Check if the character is a vowel\n",
        "    if char in vowels:\n",
        "        # If it is a vowel, increment the counter by 1\n",
        "        count += 1\n",
        "\n",
        "# Print the total number of vowels found in the sentence\n",
        "print(\"number of vowels:\", count)\n"
      ],
      "metadata": {
        "id": "OrXsoush5034",
        "colab": {
          "base_uri": "https://localhost:8080/"
        },
        "outputId": "f98280e4-b256-4b6f-9567-d5f011b982b2"
      },
      "execution_count": 4,
      "outputs": [
        {
          "output_type": "stream",
          "name": "stdout",
          "text": [
            "input sentence: aeiou\n",
            "number of vowels: 5\n"
          ]
        }
      ]
    },
    {
      "cell_type": "code",
      "source": [
        "# Given a string, reverse the order of characters using string slicing and print\n",
        "# the reversed string.\n"
      ],
      "metadata": {
        "id": "siL0mOnDfg15"
      },
      "execution_count": 2,
      "outputs": []
    },
    {
      "cell_type": "code",
      "source": [
        "# Prompt the user to input a sentence\n",
        "sentence = input(\"input sentence:\")\n",
        "\n",
        "# Print the sentence in reverse order\n",
        "print(sentence[::-1])\n"
      ],
      "metadata": {
        "colab": {
          "base_uri": "https://localhost:8080/"
        },
        "id": "tjcpdiw4yvep",
        "outputId": "313b981e-bfa7-4590-e6c1-beffecb04c82"
      },
      "execution_count": 3,
      "outputs": [
        {
          "output_type": "stream",
          "name": "stdout",
          "text": [
            "input sentence:sfvssgfv\n",
            "vfgssvfs\n"
          ]
        }
      ]
    },
    {
      "cell_type": "code",
      "source": [
        "# Write a program that takes a string as input and checks if it is a palindrome\n",
        "# (reads the same forwards and backwards)."
      ],
      "metadata": {
        "id": "aNgWD56Q0kQH"
      },
      "execution_count": 4,
      "outputs": []
    },
    {
      "cell_type": "code",
      "source": [
        "# Prompt the user to input a sentence\n",
        "sentence = input(\"input:\")\n",
        "\n",
        "# Check if the sentence is the same forwards and backwards\n",
        "if sentence == sentence[::-1]:\n",
        "    # If true, print that it is a palindrome\n",
        "    print(\"palindrome\")\n",
        "else:\n",
        "    # If false, print that it is not a palindrome\n",
        "    print(\"not palindrome\")\n"
      ],
      "metadata": {
        "colab": {
          "base_uri": "https://localhost:8080/"
        },
        "id": "WoG9oeWz1LeI",
        "outputId": "0f7212c8-9e46-4811-c5c1-8bb2d8d72e3b"
      },
      "execution_count": 18,
      "outputs": [
        {
          "output_type": "stream",
          "name": "stdout",
          "text": [
            "input:radar\n",
            "palindrome\n"
          ]
        }
      ]
    },
    {
      "cell_type": "code",
      "source": [
        "# Create a program that takes a string as input and removes all the spaces from\n",
        "# it. Print the modified string without spaces."
      ],
      "metadata": {
        "id": "rAeQNMdk1nJ7"
      },
      "execution_count": 19,
      "outputs": []
    },
    {
      "cell_type": "code",
      "source": [
        "# Prompt the user to input a sentence\n",
        "sentence = input(\"input:\")\n",
        "\n",
        "# Replace all spaces in the sentence with an empty string and print the result\n",
        "print(sentence.replace(\" \", \"\"))\n"
      ],
      "metadata": {
        "colab": {
          "base_uri": "https://localhost:8080/"
        },
        "id": "5AGpT8393E8o",
        "outputId": "af3c6ec7-17d4-4d6b-c929-80fcb09078d8"
      },
      "execution_count": 21,
      "outputs": [
        {
          "output_type": "stream",
          "name": "stdout",
          "text": [
            "input:not palindrome\n",
            "notpalindrome\n"
          ]
        }
      ]
    },
    {
      "cell_type": "code",
      "source": [],
      "metadata": {
        "id": "XyDZQVi38Joa"
      },
      "execution_count": null,
      "outputs": []
    }
  ]
}